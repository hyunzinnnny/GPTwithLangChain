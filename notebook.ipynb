{
 "cells": [
  {
   "cell_type": "code",
   "execution_count": 2,
   "id": "8d1be582",
   "metadata": {},
   "outputs": [],
   "source": [
    "from langchain.chat_models import ChatOpenAI\n",
    "\n",
    "chat = ChatOpenAI(temperature=0.1)\n",
    "\n",
    "#b = chat.predict(\"How mant planets are there?\")\n"
   ]
  },
  {
   "cell_type": "code",
   "execution_count": 8,
   "id": "80c8f1a3",
   "metadata": {},
   "outputs": [
    {
     "data": {
      "text/plain": [
       "AIMessage(content='Γεια σας! Το όνομά μου είναι Άρης. Η απόσταση μεταξύ του Μεξικού και της Ταϊλάνδης είναι περίπου 16.000 χιλιόμετρα.')"
      ]
     },
     "execution_count": 8,
     "metadata": {},
     "output_type": "execute_result"
    }
   ],
   "source": [
    "from langchain.schema import HumanMessage,AIMessage,SystemMessage\n",
    "from langchain.prompts import PromptTemplate,ChatPromptTemplate\n",
    "\n",
    "messages_1 = [\n",
    "    #너는 일정 조율을 해주는 내 매니저 역할을 담당중\n",
    "    SystemMessage(content=\"You are a grography expert. And you only relpy in Italian.\"),\n",
    "    #안녕하세요 XXX입니다. 회의 햣 일정 회신 부탁드립니다.\n",
    "    AIMessage(content=\"Ciao, mi chiamo Paolo\"),\n",
    "    #누구누구 연락처 그룹에게 4월 XX일부터 4월 XX일 까지 가능한 일정 회신 요청 문자를 보내줘\n",
    "    HumanMessage(content=\"What is the distance between Mexico and Tailand? Also what is your name?\")\n",
    "]\n",
    "\n",
    "#chat.predict_messages(messages_1)\n",
    "\n",
    "#템플릿을 포맷해서 프롬프트로 만들어 담고 그 프롬프트롤 predict 메소드를 사용해 chat 모델에게 전달함\n",
    "template_1 = PromptTemplate.from_template(\"What is the distance between {contry_a} and {contry_b}?\")\n",
    "prompt_1 = template_1.format(contry_a=\"Mexico\",contry_b=\"Tailand\")\n",
    "#chat.predict(prompt)\n",
    "#prompt_1\n",
    "\n",
    "template = ChatPromptTemplate.from_messages([\n",
    "    (\"system\",\"You are a geography expert. And You only reply in {language}.\"),\n",
    "    (\"ai\",\"Ciao, mi chiamo {name}\"),\n",
    "    (\"human\",\"What is the distance between {country_a} and {country_b}. Also what is your name?\"),\n",
    "])\n",
    "\n",
    "prompt = template.format_messages(\n",
    "    language=\"Greek\",\n",
    "    name=\"Sora\",\n",
    "    country_a=\"Mexico\",\n",
    "    country_b=\"Thailand\",\n",
    ")\n",
    "\n",
    "chat.predict_messages(prompt)"
   ]
  }
 ],
 "metadata": {
  "kernelspec": {
   "display_name": "env",
   "language": "python",
   "name": "python3"
  },
  "language_info": {
   "codemirror_mode": {
    "name": "ipython",
    "version": 3
   },
   "file_extension": ".py",
   "mimetype": "text/x-python",
   "name": "python",
   "nbconvert_exporter": "python",
   "pygments_lexer": "ipython3",
   "version": "3.11.9"
  }
 },
 "nbformat": 4,
 "nbformat_minor": 5
}
